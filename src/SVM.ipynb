{
 "cells": [
  {
   "cell_type": "code",
   "execution_count": 1,
   "metadata": {},
   "outputs": [
    {
     "data": {
      "text/plain": [
       "SVC(C=1.0, cache_size=200, class_weight=None, coef0=0.0,\n",
       "  decision_function_shape=None, degree=3, gamma='auto', kernel='rbf',\n",
       "  max_iter=-1, probability=False, random_state=None, shrinking=True,\n",
       "  tol=0.001, verbose=False)"
      ]
     },
     "execution_count": 1,
     "metadata": {},
     "output_type": "execute_result"
    }
   ],
   "source": [
    "from sklearn import svm\n",
    "import numpy as np\n",
    "X = [[0, 0], [1, 1]]\n",
    "y = [0, 1]\n",
    "clf = svm.SVC()\n",
    "clf.fit(np.array(X), np.array(y))  "
   ]
  },
  {
   "cell_type": "code",
   "execution_count": 2,
   "metadata": {},
   "outputs": [
    {
     "data": {
      "text/plain": [
       "array([1])"
      ]
     },
     "execution_count": 2,
     "metadata": {},
     "output_type": "execute_result"
    }
   ],
   "source": [
    "clf.predict(([[1., 1.]]))"
   ]
  },
  {
   "cell_type": "code",
   "execution_count": 3,
   "metadata": {},
   "outputs": [],
   "source": [
    "%load_ext rpy2.ipython"
   ]
  },
  {
   "cell_type": "code",
   "execution_count": 4,
   "metadata": {},
   "outputs": [],
   "source": [
    "%%R -o cl_data -o tcga_data -o tcga_hist -o cl_names\n",
    "\n",
    "\n",
    "load(\"../data/Endometrial_CN_gistic_bundle.Rdata\")\n",
    "\n",
    "genes <- colnames(GISTIC_cl_endo)\n",
    "cl_names <- rownames(GISTIC_cl_endo)\n",
    "\n",
    "y <- rep(0, nrow(TCGA_histology))\n",
    "y[which(TCGA_histology$CLI_histological_type==\"serous endometrial adenocarcinoma\")] <- 1\n",
    "\n",
    "TCGA_histology$y <- as.factor(y)\n",
    "\n",
    "cl_data <- GISTIC_cl_endo\n",
    "tcga_data <- GISTIC_tcga_endo\n",
    "tcga_hist <- TCGA_histology"
   ]
  },
  {
   "cell_type": "code",
   "execution_count": 5,
   "metadata": {},
   "outputs": [],
   "source": [
    "from random import sample\n",
    "\n",
    "y=np.array(tcga_hist['y'])\n",
    "#all_classes=map(int, np.array(tcga_hist['y']))\n",
    "\n",
    "inds_class1=np.where(y=='1')[0]\n",
    "inds_class2=np.where(y=='0')[0]\n",
    "\n",
    "traininds_class1=sample(inds_class1, len(inds_class1)/2)\n",
    "traininds_class2=sample(inds_class2, len(inds_class1)/2)\n",
    "\n",
    "testinds_class2=np.setdiff1d(inds_class2, traininds_class2)\n",
    "testinds_class1=np.setdiff1d(inds_class1, traininds_class1)\n",
    "\n"
   ]
  },
  {
   "cell_type": "code",
   "execution_count": 7,
   "metadata": {},
   "outputs": [
    {
     "data": {
      "text/plain": [
       "numpy.ndarray"
      ]
     },
     "execution_count": 7,
     "metadata": {},
     "output_type": "execute_result"
    }
   ],
   "source": [
    "type(tcga_data)"
   ]
  },
  {
   "cell_type": "code",
   "execution_count": 6,
   "metadata": {},
   "outputs": [
    {
     "data": {
      "text/plain": [
       "SVC(C=1.0, cache_size=200, class_weight=None, coef0=0.0,\n",
       "  decision_function_shape=None, degree=3, gamma='auto', kernel='rbf',\n",
       "  max_iter=-1, probability=True, random_state=None, shrinking=True,\n",
       "  tol=0.001, verbose=False)"
      ]
     },
     "execution_count": 6,
     "metadata": {},
     "output_type": "execute_result"
    }
   ],
   "source": [
    "y=y.astype(int)\n",
    "testinds_class1=list(testinds_class1)\n",
    "testinds_class2=list(testinds_class2)\n",
    "svm_ucec_cn=svm.SVC(probability=True)\n",
    "svm_ucec_cn.fit(tcga_data[traininds_class1+traininds_class2,:], y[traininds_class1+traininds_class2])"
   ]
  },
  {
   "cell_type": "code",
   "execution_count": 7,
   "metadata": {},
   "outputs": [
    {
     "data": {
      "text/plain": [
       "0.92674239507123612"
      ]
     },
     "execution_count": 7,
     "metadata": {},
     "output_type": "execute_result"
    }
   ],
   "source": [
    "from sklearn.metrics import roc_auc_score\n",
    "testset_prediction_svm=svm_ucec_cn.predict_proba(tcga_data[testinds_class1+testinds_class2,:])\n",
    "roc_auc_score(y[testinds_class1+testinds_class2] ,testset_prediction_svm[:,1])"
   ]
  },
  {
   "cell_type": "code",
   "execution_count": 8,
   "metadata": {},
   "outputs": [
    {
     "data": {
      "text/plain": [
       "array(['MFE280_ENDOMETRIUM', 'KLE_ENDOMETRIUM', 'HEC1A_ENDOMETRIUM',\n",
       "       'HEC6_ENDOMETRIUM', 'HEC251_ENDOMETRIUM', 'SNGM_ENDOMETRIUM',\n",
       "       'HEC50B_ENDOMETRIUM', 'SNU1077_ENDOMETRIUM', 'JHUEM3_ENDOMETRIUM',\n",
       "       'TEN_ENDOMETRIUM'], \n",
       "      dtype='|S32')"
      ]
     },
     "execution_count": 8,
     "metadata": {},
     "output_type": "execute_result"
    }
   ],
   "source": [
    "cl_prediction_svm=svm_ucec_cn.predict_proba(cl_data)\n",
    "cl_names[np.where(cl_prediction_svm[:,0]<0.5)]"
   ]
  },
  {
   "cell_type": "code",
   "execution_count": 9,
   "metadata": {},
   "outputs": [
    {
     "data": {
      "text/plain": [
       "array(['MFE296_ENDOMETRIUM', 'MFE280_ENDOMETRIUM', 'MFE319_ENDOMETRIUM',\n",
       "       'RL952_ENDOMETRIUM', 'ISHIKAWAHERAKLIO02ER_ENDOMETRIUM',\n",
       "       'KLE_ENDOMETRIUM', 'EN_ENDOMETRIUM', 'HEC1A_ENDOMETRIUM',\n",
       "       'JHUEM7_ENDOMETRIUM', 'ESS1_ENDOMETRIUM', 'EFE184_ENDOMETRIUM',\n",
       "       'JHUEM2_ENDOMETRIUM', 'JHUEM1_ENDOMETRIUM', 'HEC265_ENDOMETRIUM',\n",
       "       'HEC151_ENDOMETRIUM', 'HEC108_ENDOMETRIUM', 'HEC6_ENDOMETRIUM',\n",
       "       'HEC59_ENDOMETRIUM', 'HEC251_ENDOMETRIUM', 'SNGM_ENDOMETRIUM',\n",
       "       'COLO684_ENDOMETRIUM', 'AN3CA_ENDOMETRIUM', 'SNU685_ENDOMETRIUM',\n",
       "       'HEC50B_ENDOMETRIUM', 'SNU1077_ENDOMETRIUM', 'JHUEM3_ENDOMETRIUM',\n",
       "       'HEC1B_ENDOMETRIUM', 'TEN_ENDOMETRIUM'], \n",
       "      dtype='|S32')"
      ]
     },
     "execution_count": 9,
     "metadata": {},
     "output_type": "execute_result"
    }
   ],
   "source": [
    "cl_names"
   ]
  }
 ],
 "metadata": {
  "kernelspec": {
   "display_name": "Python 2",
   "language": "python",
   "name": "python2"
  },
  "language_info": {
   "codemirror_mode": {
    "name": "ipython",
    "version": 2
   },
   "file_extension": ".py",
   "mimetype": "text/x-python",
   "name": "python",
   "nbconvert_exporter": "python",
   "pygments_lexer": "ipython2",
   "version": "2.7.11"
  }
 },
 "nbformat": 4,
 "nbformat_minor": 1
}
