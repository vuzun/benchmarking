{
 "cells": [
  {
   "cell_type": "code",
   "execution_count": 3,
   "metadata": {},
   "outputs": [],
   "source": [
    "%load_ext rpy2.ipython"
   ]
  },
  {
   "cell_type": "code",
   "execution_count": 4,
   "metadata": {},
   "outputs": [],
   "source": [
    "%%R -o bigdata_training -o bigdata_testing -o class_training -o class_testing\n",
    "\n",
    "load(\"./repo/big_data_traintest.Rdata\")\n",
    "\n",
    "bigdata_training=big_data_training\n",
    "bigdata_testing=big_data_testing\n",
    "class_training=class_vec_training\n",
    "class_testing=class_vec_testing"
   ]
  },
  {
   "cell_type": "code",
   "execution_count": 5,
   "metadata": {},
   "outputs": [],
   "source": [
    "import pickle\n",
    "\n",
    "with open(\"bigdata_for_svm.pickle\", \"wb\") as f:\n",
    "    pickle.dump(bigdata_training, f)\n",
    "    pickle.dump(bigdata_testing, f)\n",
    "    pickle.dump(class_training, f)\n",
    "    pickle.dump(class_testing, f)"
   ]
  },
  {
   "cell_type": "code",
   "execution_count": 6,
   "metadata": {},
   "outputs": [
    {
     "data": {
      "text/html": [
       "<div>\n",
       "<style scoped>\n",
       "    .dataframe tbody tr th:only-of-type {\n",
       "        vertical-align: middle;\n",
       "    }\n",
       "\n",
       "    .dataframe tbody tr th {\n",
       "        vertical-align: top;\n",
       "    }\n",
       "\n",
       "    .dataframe thead th {\n",
       "        text-align: right;\n",
       "    }\n",
       "</style>\n",
       "<table border=\"1\" class=\"dataframe\">\n",
       "  <thead>\n",
       "    <tr style=\"text-align: right;\">\n",
       "      <th></th>\n",
       "      <th>ACAP3</th>\n",
       "      <th>ACTRT2</th>\n",
       "      <th>AGRN</th>\n",
       "    </tr>\n",
       "  </thead>\n",
       "  <tbody>\n",
       "    <tr>\n",
       "      <th>TCGA-EY-A2OM</th>\n",
       "      <td>0.007</td>\n",
       "      <td>0.007</td>\n",
       "      <td>0.007</td>\n",
       "    </tr>\n",
       "    <tr>\n",
       "      <th>TCGA-EO-A3AS</th>\n",
       "      <td>-0.763</td>\n",
       "      <td>-0.763</td>\n",
       "      <td>-0.763</td>\n",
       "    </tr>\n",
       "    <tr>\n",
       "      <th>TCGA-BS-A0V7</th>\n",
       "      <td>0.091</td>\n",
       "      <td>0.091</td>\n",
       "      <td>0.091</td>\n",
       "    </tr>\n",
       "  </tbody>\n",
       "</table>\n",
       "</div>"
      ],
      "text/plain": [
       "              ACAP3  ACTRT2   AGRN\n",
       "TCGA-EY-A2OM  0.007   0.007  0.007\n",
       "TCGA-EO-A3AS -0.763  -0.763 -0.763\n",
       "TCGA-BS-A0V7  0.091   0.091  0.091"
      ]
     },
     "execution_count": 6,
     "metadata": {},
     "output_type": "execute_result"
    }
   ],
   "source": [
    "bigdata_training.iloc[:3,:3]"
   ]
  }
 ],
 "metadata": {
  "kernelspec": {
   "display_name": "Python 2",
   "language": "python",
   "name": "python2"
  },
  "language_info": {
   "codemirror_mode": {
    "name": "ipython",
    "version": 2
   },
   "file_extension": ".py",
   "mimetype": "text/x-python",
   "name": "python",
   "nbconvert_exporter": "python",
   "pygments_lexer": "ipython2",
   "version": "2.7.11"
  }
 },
 "nbformat": 4,
 "nbformat_minor": 2
}
