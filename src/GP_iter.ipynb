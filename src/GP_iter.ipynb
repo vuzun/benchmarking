{
 "cells": [
  {
   "cell_type": "code",
   "execution_count": 5,
   "metadata": {},
   "outputs": [],
   "source": [
    "import GPy\n",
    "import numpy as np\n",
    "import time\n",
    "import pickle\n",
    "from sklearn.metrics import roc_auc_score"
   ]
  },
  {
   "cell_type": "code",
   "execution_count": 7,
   "metadata": {},
   "outputs": [],
   "source": [
    "#also need testing set and roc thingy\n",
    "\n",
    "\n",
    "with open(\"../data/bigdata_for_svm.pickle\",\"rb\") as f:\n",
    "    bigdata_training=pickle.load(f)\n",
    "    bigdata_testing=pickle.load(f)\n",
    "    class_training=pickle.load(f)\n",
    "    class_testing=pickle.load(f)\n",
    "\n",
    "bigdata_training=bigdata_training.values\n",
    "bigdata_testing=bigdata_testing.values\n",
    "    \n",
    "class_training=np.array([[i] for i in class_training])\n",
    "class_testing=np.array([[i] for i in class_testing])\n",
    "    \n",
    "\n",
    "    "
   ]
  },
  {
   "cell_type": "code",
   "execution_count": 8,
   "metadata": {},
   "outputs": [],
   "source": [
    "def a_run(feature_number):\n",
    "    the_train=bigdata_training[:,:feature_number]\n",
    "    the_test=bigdata_testing[:,:feature_number]\n",
    "    \n",
    "    the_prediction=None\n",
    "    auc_score=None\n",
    "    \n",
    "    \n",
    "    starting=time.time()\n",
    "    \n",
    "    try:\n",
    "        \n",
    "        a_gp_model=GPy.models.GPClassification(the_train,class_training)\n",
    "        a_gp_model.optimize()\n",
    "        \n",
    "        the_prediction=a_gp_model.predict(the_test)\n",
    "        auc_score=roc_auc_score(class_testing, the_prediction[0]) #0 to select the expected probs\n",
    "    except Exception as e:\n",
    "        print \"This caused a failure:\",e\n",
    "        \n",
    "    elapsed=time.time() - starting\n",
    "    \n",
    "    \n",
    "    return (elapsed, feature_number, auc_score, None if the_prediction is None else the_prediction[0] )"
   ]
  },
  {
   "cell_type": "code",
   "execution_count": 10,
   "metadata": {},
   "outputs": [],
   "source": [
    "all_f=bigdata_training.shape[1]\n",
    "\n",
    "feature_numbers=[int(all_f*i) for i in (0.25,0.5,0.75,1)]\n",
    "reslist_gp_feature_iter=map(a_run,feature_numbers)"
   ]
  },
  {
   "cell_type": "code",
   "execution_count": 11,
   "metadata": {},
   "outputs": [],
   "source": [
    "with open(\"../data/reslist_gp_iter.pickle\",\"wb\") as f:\n",
    "    pickle.dump(reslist_gp_feature_iter, f)"
   ]
  }
 ],
 "metadata": {
  "kernelspec": {
   "display_name": "Python 2",
   "language": "python",
   "name": "python2"
  }
 },
 "nbformat": 4,
 "nbformat_minor": 2
}
