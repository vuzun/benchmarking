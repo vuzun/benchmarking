{
 "cells": [
  {
   "cell_type": "code",
   "execution_count": 1,
   "metadata": {},
   "outputs": [],
   "source": [
    "import GPy\n",
    "import numpy as np\n",
    "import time\n",
    "import pickle\n",
    "from sklearn.metrics import roc_auc_score"
   ]
  },
  {
   "cell_type": "code",
   "execution_count": 13,
   "metadata": {},
   "outputs": [],
   "source": [
    "#also need testing set and roc thingy\n",
    "\n",
    "with open(\"bigdata_for_svm.pickle\",\"rb\") as f:\n",
    "    bigdata_training=pickle.load(f).values\n",
    "    bigdata_testing=pickle.load(f).values\n",
    "    class_training=pickle.load(f)\n",
    "    class_testing=pickle.load(f)\n",
    "\n",
    "class_training=np.array([[i] for i in class_training])\n",
    "class_testing=np.array([[i] for i in class_testing])\n",
    "    \n",
    "def a_run(feature_number):\n",
    "    the_train=bigdata_training[:,:feature_number]\n",
    "    the_test=bigdata_testing[:,:feature_number]\n",
    "    \n",
    "    the_prediction=None\n",
    "    auc_score=None\n",
    "    \n",
    "    \n",
    "    starting=time.time()\n",
    "    \n",
    "    try:\n",
    "        \n",
    "        a_gp_model=GPy.models.GPClassification(the_train,class_training)\n",
    "        a_gp_model.optimize()\n",
    "        \n",
    "        the_prediction=a_gp_model.predict(the_test)\n",
    "        auc_score=roc_auc_score(class_testing, the_prediction[0]) #0 to select the expected probs\n",
    "    except Exception as e:\n",
    "        print \"This caused a failure:\",e\n",
    "        \n",
    "    elapsed=time.time() - starting\n",
    "    \n",
    "    \n",
    "    return (elapsed, feature_number, auc_score, None if the_prediction is None else the_prediction[0] )\n",
    "    "
   ]
  },
  {
   "cell_type": "code",
   "execution_count": 16,
   "metadata": {},
   "outputs": [],
   "source": [
    "#all_f=bigdata_training.shape[1]\n",
    "\n",
    "#the_train=bigdata_training[:,:1000]\n",
    "#the_test=bigdata_testing[:,:1000]\n",
    "#feature_numbers=[int(all_f*i) for i in (0.25,0.5,0.75,1)]\n",
    "#res=map(a_run,[1000,2000,5000])\n",
    "\n",
    "#a_model=GPy.models.GPClassification(the_train, class_training)"
   ]
  },
  {
   "cell_type": "code",
   "execution_count": 18,
   "metadata": {},
   "outputs": [
    {
     "data": {
      "text/plain": [
       "[(0.3529999256134033, 1000, 0.86044880785413747),\n",
       " (0.5759999752044678, 2000, 0.8533894343151005),\n",
       " (1.383000135421753, 5000, 0.90640486208508642)]"
      ]
     },
     "execution_count": 18,
     "metadata": {},
     "output_type": "execute_result"
    }
   ],
   "source": [
    "all_f=bigdata_training.shape[1]\n",
    "\n",
    "feature_numbers=[int(all_f*i) for i in (0.25,0.5,0.75,1)]\n",
    "reslist_gp_feature_iter=map(a_run,feature_numbers)\n",
    "\n",
    "with open(\"reslist_gp_iter.pickle\",\"wb\") as f:\n",
    "    pickle.dump(reslist_gp_feature_iter, f)"
   ]
  }
 ],
 "metadata": {
  "kernelspec": {
   "display_name": "Python 2",
   "language": "python",
   "name": "python2"
  },
  "language_info": {
   "codemirror_mode": {
    "name": "ipython",
    "version": 2
   },
   "file_extension": ".py",
   "mimetype": "text/x-python",
   "name": "python",
   "nbconvert_exporter": "python",
   "pygments_lexer": "ipython2",
   "version": "2.7.11"
  }
 },
 "nbformat": 4,
 "nbformat_minor": 2
}
