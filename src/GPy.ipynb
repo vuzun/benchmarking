{
 "cells": [
  {
   "cell_type": "code",
   "execution_count": 1,
   "metadata": {},
   "outputs": [
    {
     "name": "stdout",
     "output_type": "stream",
     "text": [
      "This part doneee.\n"
     ]
    }
   ],
   "source": [
    "# coding: utf-8\n",
    "from numpy import *\n",
    "import GPy\n",
    "from random import sample, randint, random\n",
    "from sklearn.metrics import roc_auc_score\n",
    "\n",
    "CNfeats=genfromtxt(\"./Desktop/tcga/new_CNendo.csv\",delimiter=\",\") #from GISTIC_tcga_endo\n",
    "CNfeats=CNfeats[1:,:]\n",
    "CNclasses=genfromtxt(\"./Desktop/tcga/new_hist_for_GPy_endo.csv\",delimiter=\",\") #TCGA_histolog\n",
    "CNclasses=CNclasses[1:]\n",
    "\n",
    "\n",
    "CNclasses=CNclasses.reshape(len(CNclasses),1)\n",
    "CNclasses[(where(CNclasses==3))]=0\n",
    "ser_inds=(where(CNclasses==0)[0])\n",
    "endo_inds=(where(CNclasses==1)[0])\n",
    "unknown_inds=(where(CNclasses==2)[0])\n",
    "test_ser_inds=sample(ser_inds,50)\n",
    "test_endo_inds=sample(endo_inds,50)\n",
    "train_ser_inds=sample(ser_inds,50)\n",
    "train_endo_inds=sample(endo_inds,50)\n",
    "#this up here is kinda wrong D:\n",
    "print \"This part doneee.\""
   ]
  },
  {
   "cell_type": "code",
   "execution_count": 2,
   "metadata": {},
   "outputs": [
    {
     "data": {
      "text/plain": [
       "(539L, 1L)"
      ]
     },
     "execution_count": 2,
     "metadata": {},
     "output_type": "execute_result"
    }
   ],
   "source": [
    "CNclasses.shape"
   ]
  },
  {
   "cell_type": "code",
   "execution_count": 3,
   "metadata": {},
   "outputs": [
    {
     "data": {
      "text/plain": [
       "0.94320000000000004"
      ]
     },
     "execution_count": 3,
     "metadata": {},
     "output_type": "execute_result"
    }
   ],
   "source": [
    "#UCEC CN-based GP classifier\n",
    "mCN_endo=GPy.models.GPClassification(CNfeats[train_ser_inds+train_endo_inds,:],CNclasses[train_ser_inds+train_endo_inds])\n",
    "mCN_endo.optimize()\n",
    "cnendo_pred=mCN_endo.predict(CNfeats[test_ser_inds+test_endo_inds,:])\n",
    "y2_cnendo=CNclasses[test_ser_inds+test_endo_inds]\n",
    "round_pred=array([[round(x)] for x in cnendo_pred[0]])\n",
    "sum(abs(y2_cnendo-round_pred))\n",
    "roc_auc_score(y2_cnendo, cnendo_pred[0])\n",
    "# 0.97"
   ]
  },
  {
   "cell_type": "code",
   "execution_count": 6,
   "metadata": {},
   "outputs": [
    {
     "data": {
      "text/plain": [
       "(539L, 1L)"
      ]
     },
     "execution_count": 6,
     "metadata": {},
     "output_type": "execute_result"
    }
   ],
   "source": [
    "(CNclasses).shape\n"
   ]
  },
  {
   "cell_type": "code",
   "execution_count": 17,
   "metadata": {},
   "outputs": [
    {
     "data": {
      "text/plain": [
       "0.9065343258891646"
      ]
     },
     "execution_count": 17,
     "metadata": {},
     "output_type": "execute_result"
    }
   ],
   "source": [
    "#instead of equal class proportion, half of the original sample set\n",
    "half_ser_inds=sample(ser_inds,50)\n",
    "half_endo_inds=sample(endo_inds,200)\n",
    "halfm=GPy.models.GPClassification(CNfeats[half_ser_inds+half_endo_inds,:],CNclasses[half_ser_inds+half_endo_inds])\n",
    "halfm.optimize()\n",
    "otherh_ser=[i for i in ser_inds if i not in half_ser_inds]\n",
    "otherh_endo=[i for i in endo_inds if i not in half_endo_inds]\n",
    "halfpred=halfm.predict(CNfeats[otherh_ser+otherh_endo,:])\n",
    "halfy2=CNclasses[otherh_ser+otherh_endo]\n",
    "roc_auc_score(halfy2,halfpred[0])\n",
    "#better with 50% of each class than same class sizes (200-50 vs 50-50)\n",
    "#"
   ]
  },
  {
   "cell_type": "code",
   "execution_count": 29,
   "metadata": {},
   "outputs": [],
   "source": [
    "#applying the UCEC CN classifier on CL data\n",
    "CL_endo=genfromtxt(\"./Desktop/tcga/new_CLendo.csv\",delimiter=\",\")\n",
    "CL_endo=CL_endo[1:,:]\n",
    "clpred_mCN_endo=mCN_endo.predict(CL_endo)"
   ]
  },
  {
   "cell_type": "code",
   "execution_count": null,
   "metadata": {
    "collapsed": true
   },
   "outputs": [],
   "source": [
    "#exporting the result for R analysis\n",
    "savetxt(\"./Desktop/tcga/clpred_UCEC_CN_May18.csv\",append([\"score\"],clpred_mCN_endo[0]),delimiter=\",\")"
   ]
  },
  {
   "cell_type": "code",
   "execution_count": 21,
   "metadata": {},
   "outputs": [
    {
     "data": {
      "text/plain": [
       "(28L, 1L)"
      ]
     },
     "execution_count": 21,
     "metadata": {},
     "output_type": "execute_result"
    }
   ],
   "source": [
    "clpred_mCN_endo[0].shape"
   ]
  },
  {
   "cell_type": "code",
   "execution_count": null,
   "metadata": {
    "collapsed": true
   },
   "outputs": [],
   "source": [
    "#brcaexp over matchedbrca? when no cl?\n",
    "brcaexp=genfromtxt(\"./Desktop/tcga/brcaexp_prepped.csv\", delimiter=\",\") #tu\n",
    "\n",
    "rec_stat=genfromtxt(\"./Desktop/tcga/tripleNeg_class.csv\",delimiter=\",\")\n",
    "\n",
    "rec_stat=array([[i] for i in rec_stat])\n",
    "nan_inds=where(isnan(rec_stat))[0]\n",
    "rec_stat[nan_inds]=0\n",
    "\n",
    "tn_inds=where(rec_stat==1)[0]\n",
    "nontn_inds=where(rec_stat==0)[0]\n",
    "tn_training=sample((tn_inds),30)\n",
    "tn_testing=[i for i in tn_inds if i not in tn_training  ]\n",
    "nontn_training=sample(nontn_inds,30)\n",
    "nontn_testing=[i for i in nontn_inds if i not in nontn_training]\n",
    "\n",
    "mXbrca=GPy.models.GPClassification(X=transpose(brcaexp[1:,tn_training+nontn_training]),Y=rec_stat[tn_training+nontn_training])\n",
    "#why does optimization do nothing otherwise???\n",
    "mXbrca.rbf.variance=10\n",
    "mXbrca.rbf.lengthscale=10\n",
    "print mXbrca\n",
    "mXbrca.optimize()\n",
    "print mXbrca\n",
    "#mXbrca predictions on test set\n",
    "pred=mXbrca.predict(transpose(brcaexp[1:,tn_testing]))\n",
    "pred2=mXbrca.predict(transpose(brcaexp[1:,nontn_testing]))\n",
    "fullpred=mXbrca.predict(transpose(brcaexp[1:,tn_testing+nontn_testing]))\n",
    "fully2=rec_stat[tn_testing+nontn_testing]\n",
    "roc_auc_score(fully2, fullpred[0])\n",
    "#0.92\n",
    "sum([round(x) for x in pred[0]])\n",
    "sum([round(x) for x in pred2[0]])\n",
    "sum([abs(fully2[i]-round(fullpred[0][i])) for i in range(len(fully2)) ])\n",
    "map(len,[tn_training, nontn_training, tn_testing, nontn_testing])\n",
    "#pretty good\n",
    "#?do for halfpred? like with endo\n",
    "\n",
    "\n",
    "\n",
    "#Brca exp\n",
    "ccle=genfromtxt(\"./Desktop/tcga/ccle_prepped.csv\",delimiter=\",\") #tu\n",
    "ccle=ccle[1:,2:]\n",
    "nonmatched=genfromtxt(\"./Desktop/tcga/nonmtaching_inds_in_brcatcgaexp_de_ccle.csv\", delimiter=\",\")\n",
    "matching=array([i for i in range(1170) if i not in nonmatched[1:]])\n",
    "matchedbrca=brcaexp[matching,] #tu\n",
    "matchedbrca=matchedbrca[1:,]\n",
    "training_indsb=sample(range(1,1080),500)\n",
    "testing_indsb=[i for i in range(1,1080) if i not in training_indsb]\n",
    "\n",
    "#GPmodel_brca_xp_TN_def=mXbrca\n",
    "#30 + 30 for tn and nontn\n",
    "matchedXbrca=GPy.models.GPClassification(X=transpose(matchedbrca[:,tn_training+nontn_training]),Y=rec_stat[tn_training+nontn_training])\n",
    "matchedXbrca.rbf.lengthscale=10\n",
    "matchedXbrca.rbf.variance=10\n",
    "matchedXbrca.optimize()\n",
    "pred_matchedXbrca=matchedXbrca.predict(transpose(matchedbrca[:,tn_testing+nontn_testing]))\n",
    "roc_auc_score(rec_stat[tn_testing+nontn_testing],pred_matchedXbrca[0])\n",
    "#0.92\n",
    "\n",
    "cl_pred_brX=matchedXbrca.predict(transpose(ccle))\n",
    "cl_pred_brX[0]\n",
    "\n",
    "#savetxt(\"GPC_TN_clpred_exp_9Apr.csv\",cl_pred[0],delimiter=\",\")\n",
    "#yay, actual res. strings as nans complicated before"
   ]
  },
  {
   "cell_type": "code",
   "execution_count": 10,
   "metadata": {},
   "outputs": [
    {
     "name": "stdout",
     "output_type": "stream",
     "text": [
      "\n",
      "Name : gp_classification\n",
      "Objective : 59.9084083105\n",
      "Number of Parameters : 2\n",
      "Number of Optimization Parameters : 2\n",
      "Updates : True\n",
      "Parameters:\n",
      "  \u001b[1mgp_classification.\u001b[0;0m  |  value  |  constraints  |  priors\n",
      "  \u001b[1mrbf.variance      \u001b[0;0m  |   10.0  |      +ve      |        \n",
      "  \u001b[1mrbf.lengthscale   \u001b[0;0m  |   10.0  |      +ve      |        \n",
      "\n",
      "Name : gp_classification\n",
      "Objective : 32.6192144467\n",
      "Number of Parameters : 2\n",
      "Number of Optimization Parameters : 2\n",
      "Updates : True\n",
      "Parameters:\n",
      "  \u001b[1mgp_classification.\u001b[0;0m  |          value  |  constraints  |  priors\n",
      "  \u001b[1mrbf.variance      \u001b[0;0m  |  11.2735959506  |      +ve      |        \n",
      "  \u001b[1mrbf.lengthscale   \u001b[0;0m  |  62.6023009046  |      +ve      |        \n",
      "\n",
      "Name : gp_classification\n",
      "Objective : 41.8957450394\n",
      "Number of Parameters : 2\n",
      "Number of Optimization Parameters : 2\n",
      "Updates : True\n",
      "Parameters:\n",
      "  \u001b[1mgp_classification.\u001b[0;0m  |           value  |  constraints  |  priors\n",
      "  \u001b[1mrbf.variance      \u001b[0;0m  |  0.922497858191  |      +ve      |        \n",
      "  \u001b[1mrbf.lengthscale   \u001b[0;0m  |   1.31844410079  |      +ve      |        \n",
      "\n",
      "Name : gp_classification\n",
      "Objective : 34.657359028\n",
      "Number of Parameters : 2\n",
      "Number of Optimization Parameters : 2\n",
      "Updates : True\n",
      "Parameters:\n",
      "  \u001b[1mgp_classification.\u001b[0;0m  |  value  |  constraints  |  priors\n",
      "  \u001b[1mrbf.variance      \u001b[0;0m  |   10.0  |      +ve      |        \n",
      "  \u001b[1mrbf.lengthscale   \u001b[0;0m  |   10.0  |      +ve      |        \n"
     ]
    },
    {
     "data": {
      "text/plain": [
       "0.86857876712328763"
      ]
     },
     "execution_count": 10,
     "metadata": {},
     "output_type": "execute_result"
    }
   ],
   "source": [
    "#Brca cn\n",
    "ccle_cn_br=genfromtxt(\"./Desktop/tcga/ccle_cn_breast.csv\",delimiter=\",\")\n",
    "brcacn=genfromtxt(\"./Desktop/tcga/brca_CN_moreprepped.csv\",delimiter=\",\")\n",
    "TNclass=genfromtxt(\"./Desktop/tcga/TN_classes_for_brcaCN.csv\",delimiter=\",\")\n",
    "TNclass=TNclass[1:]\n",
    "brcacn=brcacn[1:,:]\n",
    "ccle_cn_br=ccle_cn_br[1:,2:]\n",
    "TNclass=array([[i] for i in TNclass])\n",
    "naninds=where(isnan(TNclass))[0]\n",
    "TNclass[naninds]=0\n",
    "tninds=where(TNclass==1)[0]\n",
    "nontninds=where(TNclass==0)[0]\n",
    "tntrain=sample(tninds,30)\n",
    "tntest=[i for i in tninds if i not in tntrain]\n",
    "nontntrain=sample(nontninds,30)\n",
    "nontntest=[i for i in nontninds if i not in nontntrain]\n",
    "#30+30 for tn and nontn\n",
    "GPmodel_brca_cn=GPy.models.GPClassification(transpose(brcacn[:,tntrain+nontntrain]), TNclass[tntrain+nontntrain])\n",
    "GPmodel_brca_cn.optimize() #setting var/l to 10 not needed here. why???\n",
    "print GPmodel_brca_cn\n",
    "predbrcacn1=GPmodel_brca_cn.predict(transpose(brcacn[:,tntest])) #34 len\n",
    "predbrcacn2=GPmodel_brca_cn.predict(transpose(brcacn[:,nontntest])) #968\n",
    "sum([round(x) for x in predbrcacn1[0]]) #12\n",
    "sum([round(x) for x in predbrcacn2[0]]) #338\n",
    "predbrcacnjoin=GPmodel_brca_cn.predict(transpose(brcacn[:,tntest+nontntest]))\n",
    "roc_auc_score(TNclass[tntest+nontntest],predbrcacnjoin[0]) #0.53\n",
    "#roc_auc_score doesn't work with y having only 1 class duh\n",
    "#roc_auc_score(TNclass[tntest],predbrcacn1[0])\n",
    "#roc_auc_score(TNclass[nontntest],predbrcacn2[0])\n",
    "#seems pretty bad\n",
    "cl_pred_brcacn=GPmodel_brca_cn.predict(transpose(ccle_cn_br))\n",
    "cl_pred_brcacn[0]\n",
    "#huge majority close to 0.5\n",
    "#savetxt(\"GPC_TN_predicted_cn_11Apr.csv\",predbrcacnjoin[0],delimiter=\",\")\n",
    "#savetxt(\"GPC_TN_actual_cn_11Apr.csv\",TNclass[tntest+nontntest],delimiter=\",\")\n",
    "#savetxt(\"cl_pred_brca_cn_11Apr.csv\",cl_pred_brcacn[0],delimiter=\",\")\n",
    "\n",
    "\n",
    "#endo\n",
    "\n",
    "#Endo cn\n",
    "#?why CNendo again? because earlier wasn't matched to CLs?\n",
    "Endo_codes=genfromtxt(\"./Desktop/tcga/Endo_barcode_hist.csv\",delimiter=\",\",skip_header=1)\n",
    "\n",
    "#error, but ok with 'skip_header', 'skiprows' no \n",
    "Endo_hist=genfromtxt(\"./Desktop/tcga/graded_hist.csv\",delimiter=\",\")\n",
    "Endo_CN_mostvar=genfromtxt(\"./Desktop/tcga/grefined_tcga_endo.csv\",delimiter=\",\")\n",
    "ccle_cn_endo=genfromtxt(\"./Desktop/tcga/GISTIC_ccle_cn_endo.csv\",delimiter=\",\")\n",
    "\n",
    "endocn=Endo_CN_mostvar[1:,3:]\n",
    "ccle_cn_endo=ccle_cn_endo[1:,2:]\n",
    "endohist=Endo_hist[1:]\n",
    "\n",
    "serinds=where(endohist==1)[0]\n",
    "endoinds=where(endohist==0)[0]\n",
    "\n",
    "sertrain=sample(serinds,50)\n",
    "sertest=[i for i in serinds if i not in sertrain]\n",
    "endotrain=sample(endoinds,50)\n",
    "endotest=[i for i in endoinds if i not in endotrain]\n",
    "endohist=array([[i] for i in endohist])\n",
    "mCN_endo=GPy.models.GPClassification(transpose(endocn[:,endotrain+sertrain]), endohist[endotrain+sertrain])\n",
    "mCN_endo.optimize()\n",
    "#again manually changing var/l not needed\n",
    "GPmodel_endo_cn=mCN_endo\n",
    "pred_endocn=GPmodel_endo_cn.predict(transpose(endocn[:,endotest+sertest]))\n",
    "#roc_auc_score(halfy2,halfpred[0]) #0.93\n",
    "roc_auc_score(endohist[endotest+sertest],pred_endocn[0])\n",
    "#0.91\n",
    "cl_pred_endo_cn=GPmodel_endo_cn.predict(transpose(ccle_cn_endo))\n",
    "cl_pred_endo_cn[0]\n",
    "#meaningful ^^\n",
    "[round(x) for x in cl_pred_endo_cn[0]]\n",
    "#savetxt(\"cl_pred_endo_cn11Apr.csv\",cl_pred_endo_cn[0] ,delimiter=\",\")\n",
    "#savetxt(\"GPC_Endo_cn_actual_11Apr.csv\",endohist[endotest+sertest],delimiter=\",\")\n",
    "#savetxt(\"GPC_endo_cn_predicted_11Apr.csv\",pred_endocn[0],delimiter=\",\")\n",
    "\n",
    "\n",
    "#Endo xp\n",
    "#doesn't optimize!\n",
    "endo_exp=genfromtxt(\"./Desktop/tcga/Endo_exp_mostvar.csv\", delimiter=\",\")\n",
    "endohist_ref=genfromtxt(\"./Desktop/tcga/Endo_hist_refined.csv\",delimiter=\",\")\n",
    "endo_exp=endo_exp[1:,1:]\n",
    "endohist_ref=endohist_ref[1:]\n",
    "endohist_ref=endohist_ref.reshape(176,1)\n",
    "\n",
    "xser_inds=where(endohist_ref==1)[0]\n",
    "xend_inds=where(endohist_ref==0)[0]\n",
    "xser_train=sample(xser_inds, 25)\n",
    "xser_test=[i for i in xser_inds if i not in xser_train]\n",
    "xend_train=sample(xend_inds, 25)\n",
    "xend_test=[i for i in xend_inds if i not in xend_train]\n",
    "\n",
    "mX_endo=GPy.models.GPClassification(transpose(endo_exp[:,xser_train+xend_train]), endohist_ref[xser_train+xend_train])\n",
    "mX_endo.rbf.variance=10\n",
    "mX_endo.rbf.lengthscale=10\n",
    "mX_endo.optimize()\n",
    "print mX_endo\n",
    "\n",
    "#isustibog\n",
    "endoxp=endo_exp[:]\n",
    "endoxp=endoxp/1000\n",
    "m2X_endo=GPy.models.GPClassification(transpose(endoxp[:,xser_train+xend_train]), endohist_ref[xser_train+xend_train])\n",
    "pred_m2Xendo=m2X_endo.predict(transpose(endoxp[:,xser_test+xend_test]))\n",
    "roc_auc_score(endohist_ref[xser_test+xend_test], pred_m2Xendo[0])\n",
    "#0.93!\n",
    "\n",
    "\n",
    "#refined endocn for TCGA match\n",
    "endocn_ref=genfromtxt(\"./Desktop/tcga/Endo_CN_mostvar_refined.csv\",delimiter=\",\")\n",
    "endocn_ref=endocn_ref[1:,3:]\n",
    "\n",
    "#inds from same endohist_refined as previous endoX\n",
    "\n",
    "mCNr_endo=GPy.models.GPClassification(transpose(endocn_ref[:,xser_train+xend_train]), endohist_ref[xser_train+xend_train])\n",
    "pred_endocn_ref=mCNr_endo.predict(transpose(endocn_ref[:,xser_test+xend_test]))\n",
    "roc_auc_score(endohist_ref[xser_test+xend_test], pred_endocn_ref[0])\n",
    "#0.89\n",
    "\n",
    "\n",
    "#integr\n",
    "#just joining at first\n",
    "joined=concatenate(((endocn_ref),(endoxp)))\n",
    "mj=GPy.models.GPClassification(transpose(joined[:,:][:,xser_train+xend_train]), endohist_ref[xser_train+xend_train])\n",
    "mj.rbf.lengthscale=100\n",
    "mj.rbf.variance=100\n",
    "mj.optimize()\n",
    "\n",
    "pred_endo_joined=mj.predict(transpose(joined[:,:][:,xser_test+xend_test]))\n",
    "roc_auc_score(endohist_ref[xser_test+xend_test],pred_endo_joined[0])\n",
    "#0.93\n",
    "\n",
    "#just join for brca\n",
    "\n",
    "#some basic combopicking for int\n",
    "\n",
    "#slightly refined brcaexp auc=0.67\n",
    "\n",
    "\n",
    "#??? chosen sample sizes"
   ]
  },
  {
   "cell_type": "code",
   "execution_count": null,
   "metadata": {
    "collapsed": true
   },
   "outputs": [],
   "source": []
  }
 ],
 "metadata": {
  "kernelspec": {
   "display_name": "Python 2",
   "language": "python",
   "name": "python2"
  },
  "language_info": {
   "codemirror_mode": {
    "name": "ipython",
    "version": 2
   },
   "file_extension": ".py",
   "mimetype": "text/x-python",
   "name": "python",
   "nbconvert_exporter": "python",
   "pygments_lexer": "ipython2",
   "version": "2.7.11"
  }
 },
 "nbformat": 4,
 "nbformat_minor": 2
}
